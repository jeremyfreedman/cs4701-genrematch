{
  "cells": [
    {
      "cell_type": "markdown",
      "source": [
        "# GenreMatch\n",
        "Data cleaning and model generation  \n",
        "*Jeremy Freedman, Reza Madhavan, Kunal Sheth*"
      ],
      "metadata": {
        "id": "MN4JcSLjawnT"
      }
    },
    {
      "cell_type": "code",
      "execution_count": 2,
      "source": [
        "!unzip Archive.zip"
      ],
      "outputs": [
        {
          "output_type": "stream",
          "name": "stdout",
          "text": [
            "unzip:  cannot find or open Archive.zip, Archive.zip.zip or Archive.zip.ZIP.\n"
          ]
        }
      ],
      "metadata": {
        "colab": {
          "base_uri": "https://localhost:8080/"
        },
        "id": "CdHUQFa3dgMx",
        "outputId": "a0254c9b-217b-45f7-bf43-3a89aa01dee0"
      }
    },
    {
      "cell_type": "code",
      "execution_count": 3,
      "source": [
        "!ls utils"
      ],
      "outputs": [
        {
          "output_type": "stream",
          "name": "stdout",
          "text": [
            "azlyrics.py  grab_genius.ipynb\t__pycache__\n",
            "genius.py    grab_lyrics.py\tsonglyrics.py\n"
          ]
        }
      ],
      "metadata": {
        "colab": {
          "base_uri": "https://localhost:8080/"
        },
        "id": "oy9GICSqdrpH",
        "outputId": "14e938d0-d975-4709-ce9c-10562cc138cd"
      }
    },
    {
      "cell_type": "code",
      "execution_count": 4,
      "source": [
        "import pandas as pd\n",
        "import numpy as np\n",
        "import utils.songlyrics as sl\n",
        "from collections import defaultdict\n",
        "from nltk.corpus import stopwords as sw\n",
        "from nltk import download as nltk_download\n",
        "import matplotlib.pyplot as pyplot\n",
        "import sklearn as sk\n",
        "from sklearn import tree\n",
        "import collections\n",
        "import gc\n",
        "import math\n",
        "import pickle\n",
        "import json"
      ],
      "outputs": [],
      "metadata": {
        "id": "ZRQb4iM7awnV",
        "scrolled": true
      }
    },
    {
      "cell_type": "code",
      "execution_count": 5,
      "source": [
        "a=pd.read_csv('data/song_lyrics.csv').dropna()\n",
        "new_df = a.copy()\n",
        "head = new_df.head(5)"
      ],
      "outputs": [],
      "metadata": {
        "id": "S7jvCK5HjTtP"
      }
    },
    {
      "cell_type": "code",
      "execution_count": 6,
      "source": [
        "# download the NLTK stopwords list, if necessary\n",
        "nltk_download('stopwords')"
      ],
      "outputs": [
        {
          "output_type": "stream",
          "name": "stderr",
          "text": [
            "[nltk_data] Downloading package stopwords to /home/jerem/nltk_data...\n",
            "[nltk_data]   Package stopwords is already up-to-date!\n"
          ]
        },
        {
          "output_type": "execute_result",
          "data": {
            "text/plain": [
              "True"
            ]
          },
          "metadata": {},
          "execution_count": 6
        }
      ],
      "metadata": {
        "colab": {
          "base_uri": "https://localhost:8080/"
        },
        "id": "mtGsK4NbawnW",
        "outputId": "528a5e7e-cda7-4e1f-d316-6a5cbcf6c56b"
      }
    },
    {
      "cell_type": "code",
      "execution_count": 7,
      "source": [
        "# we need to clean and update the NLTK stopwords for our data\n",
        "# we're stripping out punctuation entirely, which the stopwords are not equipped to handle\n",
        "# could optionally add music-centric stopwords ('oh', 'yeah', 'like', etc)\n",
        "\n",
        "temp_words = sw.words('english')\n",
        "stopwords = []\n",
        "additions = ['im', 'ill', 'id', 'oh', 'cant', 'ive']\n",
        "for w in temp_words:\n",
        "    stopwords.append(sl._clean(w))\n",
        "stopwords += additions\n",
        "print(stopwords)\n"
      ],
      "outputs": [
        {
          "output_type": "stream",
          "name": "stdout",
          "text": [
            "['i', 'me', 'my', 'myself', 'we', 'our', 'ours', 'ourselves', 'you', 'youre', 'youve', 'youll', 'youd', 'your', 'yours', 'yourself', 'yourselves', 'he', 'him', 'his', 'himself', 'she', 'shes', 'her', 'hers', 'herself', 'it', 'its', 'its', 'itself', 'they', 'them', 'their', 'theirs', 'themselves', 'what', 'which', 'who', 'whom', 'this', 'that', 'thatll', 'these', 'those', 'am', 'is', 'are', 'was', 'were', 'be', 'been', 'being', 'have', 'has', 'had', 'having', 'do', 'does', 'did', 'doing', 'a', 'an', 'the', 'and', 'but', 'if', 'or', 'because', 'as', 'until', 'while', 'of', 'at', 'by', 'for', 'with', 'about', 'against', 'between', 'into', 'through', 'during', 'before', 'after', 'above', 'below', 'to', 'from', 'up', 'down', 'in', 'out', 'on', 'off', 'over', 'under', 'again', 'further', 'then', 'once', 'here', 'there', 'when', 'where', 'why', 'how', 'all', 'any', 'both', 'each', 'few', 'more', 'most', 'other', 'some', 'such', 'no', 'nor', 'not', 'only', 'own', 'same', 'so', 'than', 'too', 'very', 's', 't', 'can', 'will', 'just', 'don', 'dont', 'should', 'shouldve', 'now', 'd', 'll', 'm', 'o', 're', 've', 'y', 'ain', 'aren', 'arent', 'couldn', 'couldnt', 'didn', 'didnt', 'doesn', 'doesnt', 'hadn', 'hadnt', 'hasn', 'hasnt', 'haven', 'havent', 'isn', 'isnt', 'ma', 'mightn', 'mightnt', 'mustn', 'mustnt', 'needn', 'neednt', 'shan', 'shant', 'shouldn', 'shouldnt', 'wasn', 'wasnt', 'weren', 'werent', 'won', 'wont', 'wouldn', 'wouldnt', 'im', 'ill', 'id', 'oh', 'cant', 'ive']\n"
          ]
        }
      ],
      "metadata": {
        "colab": {
          "base_uri": "https://localhost:8080/"
        },
        "id": "rZe4wN0lawnW",
        "outputId": "f31dbdc4-16f8-4b2b-9044-87b79d9a5eac"
      }
    },
    {
      "cell_type": "code",
      "execution_count": 8,
      "source": [
        "for index,row in new_df.iterrows():\n",
        "  if index % 100 == 0:\n",
        "    print(index)\n",
        "\n",
        "  song = row['Lyrics']\n",
        "  x=song.find('\\n')\n",
        "  song2 = sl._clean(song[x+1:])\n",
        "  new_song = ''\n",
        "  for i in range(len(song2)):\n",
        "    char = song2[i]\n",
        "\n",
        "    if char == '\\n':\n",
        "      new_song += ' '\n",
        "    elif char == '(' or char == ')':\n",
        "      new_song += ''\n",
        "    else:\n",
        "      new_song += char\n",
        "\n",
        "\n",
        "    new_song = new_song.encode('ascii','ignore').decode()\n",
        "\n",
        "  song2 = new_song.split(' ')\n",
        "  song2 = list(filter(lambda x : x!='' and x not in stopwords, song2))\n",
        "  song2 = song2[:len(song2)-1]\n",
        "\n",
        "  new_df.at[index, 'Lyrics'] = song2\n"
      ],
      "outputs": [
        {
          "output_type": "stream",
          "name": "stdout",
          "text": [
            "0\n",
            "100\n",
            "200\n",
            "300\n",
            "400\n",
            "500\n",
            "600\n",
            "700\n",
            "800\n",
            "900\n",
            "1000\n",
            "1100\n",
            "1200\n",
            "1300\n",
            "1400\n",
            "1500\n",
            "1600\n",
            "1700\n",
            "1800\n",
            "1900\n",
            "2000\n",
            "2100\n",
            "2200\n",
            "2300\n",
            "2400\n",
            "2500\n",
            "2600\n",
            "2700\n",
            "2800\n",
            "2900\n",
            "3000\n",
            "3100\n",
            "3200\n",
            "3300\n",
            "3400\n",
            "3500\n",
            "3600\n",
            "3700\n",
            "3800\n",
            "3900\n",
            "4000\n"
          ]
        }
      ],
      "metadata": {
        "colab": {
          "base_uri": "https://localhost:8080/",
          "height": 249
        },
        "id": "NXvZBjqH5iQa",
        "outputId": "faa8aa2e-281e-417f-bb18-0f52d1fd0d35"
      }
    },
    {
      "cell_type": "code",
      "execution_count": 39,
      "source": [
        "wordfreq = []\n",
        "word_appearance_cnt = defaultdict(int) # how many songs contain word W? used for IDF\n",
        "for index,row in new_df.iterrows():\n",
        "  lyrics = row['Lyrics']\n",
        "  x = dict(collections.Counter(lyrics))\n",
        "  for w in x:\n",
        "    word_appearance_cnt[w] += 1\n",
        "  # mapped = []\n",
        "  # for k in x.keys():\n",
        "  #   mapped.append((k,x[k]))\n",
        "  wordfreq.append(x)\n",
        "# specify how many words (most popular first) to turn into features:\n",
        "top_words = {k : v for k, v in sorted(word_appearance_cnt.items(), key=lambda x: x[1], reverse=True)[:1200]}\n",
        "new_df['WordFreq'] = wordfreq"
      ],
      "outputs": [],
      "metadata": {
        "id": "mQAXliGOJ_hx"
      }
    },
    {
      "cell_type": "code",
      "execution_count": 40,
      "source": [
        "new_df['UniqueWords']= new_df.apply(lambda row : len(row['WordFreq']), axis = 1)\n",
        "new_df"
      ],
      "outputs": [
        {
          "output_type": "execute_result",
          "data": {
            "text/html": [
              "<div>\n",
              "<style scoped>\n",
              "    .dataframe tbody tr th:only-of-type {\n",
              "        vertical-align: middle;\n",
              "    }\n",
              "\n",
              "    .dataframe tbody tr th {\n",
              "        vertical-align: top;\n",
              "    }\n",
              "\n",
              "    .dataframe thead th {\n",
              "        text-align: right;\n",
              "    }\n",
              "</style>\n",
              "<table border=\"1\" class=\"dataframe\">\n",
              "  <thead>\n",
              "    <tr style=\"text-align: right;\">\n",
              "      <th></th>\n",
              "      <th>Unnamed: 0</th>\n",
              "      <th>Artist</th>\n",
              "      <th>Song</th>\n",
              "      <th>Lyrics</th>\n",
              "      <th>Genre</th>\n",
              "      <th>WordFreq</th>\n",
              "      <th>UniqueWords</th>\n",
              "    </tr>\n",
              "  </thead>\n",
              "  <tbody>\n",
              "    <tr>\n",
              "      <th>0</th>\n",
              "      <td>0</td>\n",
              "      <td>One Direction</td>\n",
              "      <td>Perfect</td>\n",
              "      <td>[might, never, knight, shinin, armor, might, n...</td>\n",
              "      <td>pop</td>\n",
              "      <td>{'might': 4, 'never': 4, 'knight': 1, 'shinin'...</td>\n",
              "      <td>71</td>\n",
              "    </tr>\n",
              "    <tr>\n",
              "      <th>1</th>\n",
              "      <td>1</td>\n",
              "      <td>One Direction</td>\n",
              "      <td>Story of My Life</td>\n",
              "      <td>[written, walls, stories, explain, leave, hear...</td>\n",
              "      <td>pop</td>\n",
              "      <td>{'written': 3, 'walls': 2, 'stories': 1, 'expl...</td>\n",
              "      <td>68</td>\n",
              "    </tr>\n",
              "    <tr>\n",
              "      <th>2</th>\n",
              "      <td>2</td>\n",
              "      <td>One Direction</td>\n",
              "      <td>Drag Me Down</td>\n",
              "      <td>[got, fire, heart, scared, dark, never, seen, ...</td>\n",
              "      <td>pop</td>\n",
              "      <td>{'got': 4, 'fire': 2, 'heart': 2, 'scared': 2,...</td>\n",
              "      <td>37</td>\n",
              "    </tr>\n",
              "    <tr>\n",
              "      <th>3</th>\n",
              "      <td>3</td>\n",
              "      <td>One Direction</td>\n",
              "      <td>What Makes You Beautiful</td>\n",
              "      <td>[insecure, know, turning, heads, walk, door, n...</td>\n",
              "      <td>pop</td>\n",
              "      <td>{'insecure': 1, 'know': 18, 'turning': 1, 'hea...</td>\n",
              "      <td>54</td>\n",
              "    </tr>\n",
              "    <tr>\n",
              "      <th>4</th>\n",
              "      <td>4</td>\n",
              "      <td>One Direction</td>\n",
              "      <td>Night Changes</td>\n",
              "      <td>[going, tonight, changes, something, red, moth...</td>\n",
              "      <td>pop</td>\n",
              "      <td>{'going': 2, 'tonight': 3, 'changes': 8, 'some...</td>\n",
              "      <td>65</td>\n",
              "    </tr>\n",
              "    <tr>\n",
              "      <th>...</th>\n",
              "      <td>...</td>\n",
              "      <td>...</td>\n",
              "      <td>...</td>\n",
              "      <td>...</td>\n",
              "      <td>...</td>\n",
              "      <td>...</td>\n",
              "      <td>...</td>\n",
              "    </tr>\n",
              "    <tr>\n",
              "      <th>4074</th>\n",
              "      <td>4074</td>\n",
              "      <td>Def Leppard</td>\n",
              "      <td>Action! Not Words</td>\n",
              "      <td>[sick, tired, damn, tv, gonna, make, movie, wa...</td>\n",
              "      <td>metal</td>\n",
              "      <td>{'sick': 1, 'tired': 1, 'damn': 1, 'tv': 1, 'g...</td>\n",
              "      <td>61</td>\n",
              "    </tr>\n",
              "    <tr>\n",
              "      <th>4075</th>\n",
              "      <td>4075</td>\n",
              "      <td>Def Leppard</td>\n",
              "      <td>Rock Rock (Till You Drop)</td>\n",
              "      <td>[ready, get, set, tear, place, apart, need, ti...</td>\n",
              "      <td>metal</td>\n",
              "      <td>{'ready': 1, 'get': 2, 'set': 1, 'tear': 1, 'p...</td>\n",
              "      <td>74</td>\n",
              "    </tr>\n",
              "    <tr>\n",
              "      <th>4076</th>\n",
              "      <td>4076</td>\n",
              "      <td>Def Leppard</td>\n",
              "      <td>Slang</td>\n",
              "      <td>[sitting, dark, getting, taken, said, somethin...</td>\n",
              "      <td>metal</td>\n",
              "      <td>{'sitting': 1, 'dark': 1, 'getting': 1, 'taken...</td>\n",
              "      <td>41</td>\n",
              "    </tr>\n",
              "    <tr>\n",
              "      <th>4077</th>\n",
              "      <td>4077</td>\n",
              "      <td>Def Leppard</td>\n",
              "      <td>Die Hard the Hunter</td>\n",
              "      <td>[lets, welcome, home, soldier, boy, far, away,...</td>\n",
              "      <td>metal</td>\n",
              "      <td>{'lets': 2, 'welcome': 2, 'home': 2, 'soldier'...</td>\n",
              "      <td>65</td>\n",
              "    </tr>\n",
              "    <tr>\n",
              "      <th>4078</th>\n",
              "      <td>4078</td>\n",
              "      <td>Def Leppard</td>\n",
              "      <td>High ‘n’ Dry (Saturday Night)</td>\n",
              "      <td>[saturday, feel, right, drinking, day, yes, go...</td>\n",
              "      <td>metal</td>\n",
              "      <td>{'saturday': 17, 'feel': 3, 'right': 1, 'drink...</td>\n",
              "      <td>45</td>\n",
              "    </tr>\n",
              "  </tbody>\n",
              "</table>\n",
              "<p>4078 rows × 7 columns</p>\n",
              "</div>"
            ],
            "text/plain": [
              "      Unnamed: 0         Artist                           Song  \\\n",
              "0              0  One Direction                        Perfect   \n",
              "1              1  One Direction               Story of My Life   \n",
              "2              2  One Direction                   Drag Me Down   \n",
              "3              3  One Direction       What Makes You Beautiful   \n",
              "4              4  One Direction                  Night Changes   \n",
              "...          ...            ...                            ...   \n",
              "4074        4074    Def Leppard              Action! Not Words   \n",
              "4075        4075    Def Leppard      Rock Rock (Till You Drop)   \n",
              "4076        4076    Def Leppard                          Slang   \n",
              "4077        4077    Def Leppard            Die Hard the Hunter   \n",
              "4078        4078    Def Leppard  High ‘n’ Dry (Saturday Night)   \n",
              "\n",
              "                                                 Lyrics  Genre  \\\n",
              "0     [might, never, knight, shinin, armor, might, n...    pop   \n",
              "1     [written, walls, stories, explain, leave, hear...    pop   \n",
              "2     [got, fire, heart, scared, dark, never, seen, ...    pop   \n",
              "3     [insecure, know, turning, heads, walk, door, n...    pop   \n",
              "4     [going, tonight, changes, something, red, moth...    pop   \n",
              "...                                                 ...    ...   \n",
              "4074  [sick, tired, damn, tv, gonna, make, movie, wa...  metal   \n",
              "4075  [ready, get, set, tear, place, apart, need, ti...  metal   \n",
              "4076  [sitting, dark, getting, taken, said, somethin...  metal   \n",
              "4077  [lets, welcome, home, soldier, boy, far, away,...  metal   \n",
              "4078  [saturday, feel, right, drinking, day, yes, go...  metal   \n",
              "\n",
              "                                               WordFreq  UniqueWords  \n",
              "0     {'might': 4, 'never': 4, 'knight': 1, 'shinin'...           71  \n",
              "1     {'written': 3, 'walls': 2, 'stories': 1, 'expl...           68  \n",
              "2     {'got': 4, 'fire': 2, 'heart': 2, 'scared': 2,...           37  \n",
              "3     {'insecure': 1, 'know': 18, 'turning': 1, 'hea...           54  \n",
              "4     {'going': 2, 'tonight': 3, 'changes': 8, 'some...           65  \n",
              "...                                                 ...          ...  \n",
              "4074  {'sick': 1, 'tired': 1, 'damn': 1, 'tv': 1, 'g...           61  \n",
              "4075  {'ready': 1, 'get': 2, 'set': 1, 'tear': 1, 'p...           74  \n",
              "4076  {'sitting': 1, 'dark': 1, 'getting': 1, 'taken...           41  \n",
              "4077  {'lets': 2, 'welcome': 2, 'home': 2, 'soldier'...           65  \n",
              "4078  {'saturday': 17, 'feel': 3, 'right': 1, 'drink...           45  \n",
              "\n",
              "[4078 rows x 7 columns]"
            ]
          },
          "metadata": {},
          "execution_count": 40
        }
      ],
      "metadata": {
        "colab": {
          "base_uri": "https://localhost:8080/",
          "height": 650
        },
        "id": "5t7YnPNfK6rg",
        "outputId": "1303df16-e040-45ed-ff4d-061d901a3181"
      }
    },
    {
      "cell_type": "code",
      "execution_count": 41,
      "source": [
        "# uniq_words = set()\n",
        "# for x in new_df['WordFreq']:\n",
        "#   uniq_words = uniq_words.union(x.keys())\n",
        "uniq_wordict = {k : 0 for k in top_words.keys()}"
      ],
      "outputs": [],
      "metadata": {
        "id": "AhtEtNbEwmnH"
      }
    },
    {
      "cell_type": "code",
      "execution_count": 42,
      "source": [
        "word_df = new_df[['Genre', 'WordFreq', 'Artist', 'UniqueWords']]\n",
        "\n",
        "for index,row in word_df.iterrows():\n",
        "  if index % 100 == 0:\n",
        "    print(f'\\r{100 * index // len(new_df)}%', end='')\n",
        "  for k in row['WordFreq']:\n",
        "    if k in top_words.keys():\n",
        "      # uniq_wordict[k] = row['WordFreq'][k] # original (raw count)\n",
        "      uniq_wordict[k] = row['WordFreq'][k] * math.log(len(new_df) / word_appearance_cnt[k]) # tf-idf\n",
        "\n",
        "  word_df.at[index, 'WordFreq'] = uniq_wordict\n",
        "  word_df.at[index, 'Artist'] = list(uniq_wordict.values()) + [row['UniqueWords']]\n",
        "  uniq_wordict = {k : 0 for k in top_words.keys()}\n",
        "print(f'\\rDone', end='')\n",
        "word_df = word_df.replace({'Artist':'WordFreqList'})\n"
      ],
      "outputs": [
        {
          "output_type": "stream",
          "name": "stdout",
          "text": [
            "Done"
          ]
        }
      ],
      "metadata": {
        "id": "7-z_Fgxa1jsR"
      }
    },
    {
      "cell_type": "code",
      "execution_count": 43,
      "source": [
        "# free up memory\n",
        "gc.collect()"
      ],
      "outputs": [
        {
          "output_type": "execute_result",
          "data": {
            "text/plain": [
              "0"
            ]
          },
          "metadata": {},
          "execution_count": 43
        }
      ],
      "metadata": {
        "colab": {
          "base_uri": "https://localhost:8080/"
        },
        "id": "qvjIQJlVh5El",
        "outputId": "95831e5d-5e69-48ab-f4a5-913dca418ae1"
      }
    },
    {
      "cell_type": "code",
      "execution_count": 44,
      "source": [
        "word_df = word_df.rename(columns = {'Artist':'WordFreqList'})\n",
        "print(word_df)"
      ],
      "outputs": [
        {
          "output_type": "stream",
          "name": "stdout",
          "text": [
            "      Genre                                           WordFreq  \\\n",
            "0       pop  {'know': 1.6510219263476484, 'like': 10.864738...   \n",
            "1       pop  {'know': 0.5503406421158828, 'like': 0.5718283...   \n",
            "2       pop  {'know': 0, 'like': 0, 'got': 3.10372765819156...   \n",
            "3       pop  {'know': 9.90613155808589, 'like': 2.287313447...   \n",
            "4       pop  {'know': 0.5503406421158828, 'like': 1.1436567...   \n",
            "...     ...                                                ...   \n",
            "4074  metal  {'know': 0, 'like': 0, 'got': 0.77593191454789...   \n",
            "4075  metal  {'know': 0, 'like': 0, 'got': 1.55186382909578...   \n",
            "4076  metal  {'know': 0, 'like': 0, 'got': 0, 'yeah': 2.376...   \n",
            "4077  metal  {'know': 0.5503406421158828, 'like': 0, 'got':...   \n",
            "4078  metal  {'know': 0, 'like': 0, 'got': 7.75931914547891...   \n",
            "\n",
            "                                           WordFreqList  UniqueWords  \n",
            "0     [1.6510219263476484, 10.864738875198876, 0, 2....           71  \n",
            "1     [0.5503406421158828, 0.5718283618525725, 0, 0,...           68  \n",
            "2     [0, 0, 3.1037276581915667, 2.3761319128054814,...           37  \n",
            "3     [9.90613155808589, 2.28731344741029, 0.7759319...           54  \n",
            "4     [0.5503406421158828, 1.143656723705145, 0, 0, ...           65  \n",
            "...                                                 ...          ...  \n",
            "4074  [0, 0, 0.7759319145478917, 0.7920439709351604,...           61  \n",
            "4075  [0, 0, 1.5518638290957834, 3.1681758837406417,...           74  \n",
            "4076  [0, 0, 0, 2.3761319128054814, 1.66473957652975...           41  \n",
            "4077  [0.5503406421158828, 0, 1.5518638290957834, 1....           65  \n",
            "4078  [0, 0, 7.7593191454789165, 0.7920439709351604,...           45  \n",
            "\n",
            "[4078 rows x 4 columns]\n"
          ]
        }
      ],
      "metadata": {
        "id": "Tnv2CZeGco9t"
      }
    },
    {
      "cell_type": "code",
      "execution_count": 47,
      "source": [
        "# write wordlist to disk for frontend use\n",
        "print(f'total of {len(top_words.keys())} uniq words')\n",
        "with open('data/words.txt', 'w') as f:\n",
        "    top_words[\"SONG_CNT\"] = len(new_df)\n",
        "    f.write(str(top_words))\n"
      ],
      "outputs": [
        {
          "output_type": "stream",
          "name": "stdout",
          "text": [
            "total of 1201 uniq words\n"
          ]
        }
      ],
      "metadata": {}
    },
    {
      "cell_type": "code",
      "execution_count": 48,
      "source": [
        "print(len(word_df.head(1)['WordFreqList'][0]))"
      ],
      "outputs": [
        {
          "output_type": "stream",
          "name": "stdout",
          "text": [
            "1201\n"
          ]
        }
      ],
      "metadata": {}
    },
    {
      "cell_type": "code",
      "execution_count": 49,
      "source": [
        "# trying various splits\n",
        "x_split_plt = []\n",
        "y_split_plt = []\n",
        "for i in range(10, 91, 10):\n",
        "    X_train, X_test, Y_train, Y_test = \\\n",
        "        sk.model_selection.train_test_split(list(word_df['WordFreqList']), list(word_df['Genre']), test_size=0.01*i)\n",
        "    print(f'Split ratio: {len(X_test) / (len(X_test) + len(X_train))}')\n",
        "    x_split_plt.append(i)\n",
        "    clf = tree.DecisionTreeClassifier()\n",
        "    clf.fit(X_train,Y_train)\n",
        "    preds = clf.predict(X_test)\n",
        "    y_split_plt.append(np.sum(preds == Y_test)/len(preds))\n"
      ],
      "outputs": [
        {
          "output_type": "stream",
          "name": "stdout",
          "text": [
            "Split ratio: 0.10004904364884748\n",
            "Split ratio: 0.20009808729769496\n",
            "Split ratio: 0.30014713094654244\n",
            "Split ratio: 0.4001961745953899\n",
            "Split ratio: 0.5\n",
            "Split ratio: 0.6000490436488475\n",
            "Split ratio: 0.700098087297695\n",
            "Split ratio: 0.8001471309465424\n",
            "Split ratio: 0.9001961745953899\n"
          ]
        }
      ],
      "metadata": {}
    },
    {
      "cell_type": "code",
      "execution_count": 50,
      "source": [
        "# plotting split\n",
        "pyplot.plot(x_split_plt, y_split_plt)\n",
        "pyplot.title('split ratio vs prediction accuracy')\n",
        "pyplot.xlabel('% sample used for testing')\n",
        "pyplot.ylabel('prediction accuracy')\n",
        "pyplot.show()\n",
        "best_split = x_split_plt[y_split_plt.index(max(y_split_plt))] * 0.01\n",
        "print(f'Best split: {best_split}')\n",
        "X_train, X_test, Y_train, Y_test = \\\n",
        "        sk.model_selection.train_test_split(list(word_df['WordFreqList']), list(word_df['Genre']), test_size=best_split)"
      ],
      "outputs": [
        {
          "output_type": "display_data",
          "data": {
            "image/png": "[encoded data removed]",
            "text/plain": [
              "<Figure size 432x288 with 1 Axes>"
            ]
          },
          "metadata": {
            "needs_background": "light"
          }
        },
        {
          "output_type": "stream",
          "name": "stdout",
          "text": [
            "Best split: 0.1\n"
          ]
        }
      ],
      "metadata": {}
    },
    {
      "cell_type": "code",
      "execution_count": 51,
      "source": [
        "# trying various max depths\n",
        "x_depth_plt = []\n",
        "y_depth_plt = []\n",
        "for i in range(1,102, 5):\n",
        "    print(f'max depth {i}')\n",
        "    x_depth_plt.append(i)\n",
        "    clf = tree.DecisionTreeClassifier(max_depth=i)\n",
        "    clf.fit(X_train,Y_train)\n",
        "    preds = clf.predict(X_test)\n",
        "    y_depth_plt.append(np.sum(preds == Y_test)/len(preds))\n",
        "    print(f'actual depth: {clf.get_depth()}')\n"
      ],
      "outputs": [
        {
          "output_type": "stream",
          "name": "stdout",
          "text": [
            "max depth 1\n",
            "actual depth: 1\n",
            "max depth 6\n",
            "actual depth: 6\n",
            "max depth 11\n",
            "actual depth: 11\n",
            "max depth 16\n",
            "actual depth: 16\n",
            "max depth 21\n",
            "actual depth: 21\n",
            "max depth 26\n",
            "actual depth: 26\n",
            "max depth 31\n",
            "actual depth: 31\n",
            "max depth 36\n",
            "actual depth: 36\n",
            "max depth 41\n",
            "actual depth: 41\n",
            "max depth 46\n",
            "actual depth: 40\n",
            "max depth 51\n",
            "actual depth: 41\n",
            "max depth 56\n",
            "actual depth: 40\n",
            "max depth 61\n",
            "actual depth: 41\n",
            "max depth 66\n",
            "actual depth: 39\n",
            "max depth 71\n",
            "actual depth: 39\n",
            "max depth 76\n",
            "actual depth: 41\n",
            "max depth 81\n",
            "actual depth: 39\n",
            "max depth 86\n",
            "actual depth: 39\n",
            "max depth 91\n",
            "actual depth: 39\n",
            "max depth 96\n",
            "actual depth: 39\n",
            "max depth 101\n",
            "actual depth: 40\n"
          ]
        }
      ],
      "metadata": {
        "colab": {
          "base_uri": "https://localhost:8080/"
        },
        "id": "cCqVqnRI_kje",
        "outputId": "3b7037b9-533d-4611-d3c5-fca88d832f98"
      }
    },
    {
      "cell_type": "code",
      "execution_count": 52,
      "source": [
        "# plotting depth\n",
        "pyplot.plot(x_depth_plt, y_depth_plt)\n",
        "pyplot.title('max depth vs prediction accuracy')\n",
        "pyplot.xlabel('max tree depth')\n",
        "pyplot.ylabel('prediction accuracy')\n",
        "pyplot.show()\n",
        "best_depth = x_depth_plt[y_depth_plt.index(max(y_depth_plt))] \n",
        "print(f'Best max depth: {best_depth}')"
      ],
      "outputs": [
        {
          "output_type": "display_data",
          "data": {
            "image/png": "[encoded data removed]",
            "text/plain": [
              "<Figure size 432x288 with 1 Axes>"
            ]
          },
          "metadata": {
            "needs_background": "light"
          }
        },
        {
          "output_type": "stream",
          "name": "stdout",
          "text": [
            "Best max depth: 11\n"
          ]
        }
      ],
      "metadata": {}
    },
    {
      "cell_type": "code",
      "execution_count": 53,
      "source": [
        "# trying various min leaf sample sizes\n",
        "x_sample_plt = []\n",
        "y_sample_plt = []\n",
        "print(best_split)\n",
        "for i in range(1, 101, 10):\n",
        "    print(f'min leaf sample {i}')\n",
        "    x_sample_plt.append(i)\n",
        "    clf = tree.DecisionTreeClassifier(min_samples_leaf=i, max_depth=best_depth)\n",
        "    clf.fit(X_train,Y_train)\n",
        "    preds = clf.predict(X_test)\n",
        "    y_sample_plt.append(np.sum(preds == Y_test)/len(preds))"
      ],
      "outputs": [
        {
          "output_type": "stream",
          "name": "stdout",
          "text": [
            "0.1\n",
            "min leaf sample 1\n",
            "min leaf sample 11\n",
            "min leaf sample 21\n",
            "min leaf sample 31\n",
            "min leaf sample 41\n",
            "min leaf sample 51\n",
            "min leaf sample 61\n",
            "min leaf sample 71\n",
            "min leaf sample 81\n",
            "min leaf sample 91\n"
          ]
        }
      ],
      "metadata": {}
    },
    {
      "cell_type": "code",
      "execution_count": 54,
      "source": [
        "# plotting min leaf sample\n",
        "pyplot.plot(x_sample_plt, y_sample_plt)\n",
        "pyplot.title('minimum leaf sample vs prediction accuracy')\n",
        "pyplot.xlabel('minimum leaf sample')\n",
        "pyplot.ylabel('prediction accuracy')\n",
        "pyplot.show()\n",
        "best_leaf_sample = x_sample_plt[y_sample_plt.index(max(y_sample_plt))]\n",
        "print(f'Best min leaf sample: {best_leaf_sample}')"
      ],
      "outputs": [
        {
          "output_type": "display_data",
          "data": {
            "image/png": "[encoded data removed]",
            "text/plain": [
              "<Figure size 432x288 with 1 Axes>"
            ]
          },
          "metadata": {
            "needs_background": "light"
          }
        },
        {
          "output_type": "stream",
          "name": "stdout",
          "text": [
            "Best min leaf sample: 41\n"
          ]
        }
      ],
      "metadata": {}
    },
    {
      "cell_type": "code",
      "execution_count": 55,
      "source": [
        "# commit model to disk\n",
        "clf_final = tree.DecisionTreeClassifier(min_samples_leaf=best_leaf_sample, max_depth=best_depth)\n",
        "clf_final.fit(X_train,Y_train)\n",
        "with open('model_dtc.pkl', 'wb') as f:\n",
        "    pickle.dump(clf_final, f)"
      ],
      "outputs": [],
      "metadata": {}
    },
    {
      "cell_type": "code",
      "execution_count": 56,
      "source": [
        "# assess final accuracy\n",
        "preds = clf_final.predict(X_test)\n",
        "print(np.sum(preds == Y_test)/len(preds))"
      ],
      "outputs": [
        {
          "output_type": "stream",
          "name": "stdout",
          "text": [
            "0.4632352941176471\n"
          ]
        }
      ],
      "metadata": {}
    },
    {
      "cell_type": "markdown",
      "source": [
        "\n",
        "\n",
        "\n",
        "---\n",
        "# STOP"
      ],
      "metadata": {
        "id": "GWOk4XcpwP5h"
      }
    }
  ],
  "metadata": {
    "colab": {
      "name": "filtered.ipynb",
      "provenance": []
    },
    "interpreter": {
      "hash": "916dbcbb3f70747c44a77c7bcd40155683ae19c65e1c03b4aa3499c5328201f1"
    },
    "kernelspec": {
      "name": "python3",
      "display_name": "Python 3.9.7 64-bit"
    },
    "language_info": {
      "codemirror_mode": {
        "name": "ipython",
        "version": 3
      },
      "file_extension": ".py",
      "mimetype": "text/x-python",
      "name": "python",
      "nbconvert_exporter": "python",
      "pygments_lexer": "ipython3",
      "version": "3.9.7"
    }
  },
  "nbformat": 4,
  "nbformat_minor": 5
}