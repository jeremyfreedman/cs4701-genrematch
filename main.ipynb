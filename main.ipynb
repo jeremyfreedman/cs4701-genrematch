{
 "cells": [
  {
   "cell_type": "code",
   "execution_count": 51,
   "metadata": {},
   "outputs": [],
   "source": [
    "import lyricsgenius as lg\n",
    "import pandas as pd\n",
    "import numpy as np"
   ]
  },
  {
   "cell_type": "code",
   "execution_count": 52,
   "metadata": {},
   "outputs": [
    {
     "name": "stdout",
     "output_type": "stream",
     "text": [
      "Empty DataFrame\n",
      "Columns: [Artist, Song, Lyrics, Genre]\n",
      "Index: []\n"
     ]
    }
   ],
   "source": [
    "df = pd.DataFrame(columns = ['Artist', 'Song', 'Lyrics','Genre'])\n",
    "print(df)"
   ]
  },
  {
   "cell_type": "code",
   "execution_count": 47,
   "metadata": {},
   "outputs": [
    {
     "name": "stdout",
     "output_type": "stream",
     "text": [
      "Searching for songs by Drake...\n",
      "\n",
      "Song 1: \"God’s Plan\"\n",
      "err 1\n",
      "Searching for songs by Drake...\n",
      "\n",
      "Song 1: \"God’s Plan\"\n",
      "err 2\n",
      "Searching for songs by Drake...\n",
      "\n",
      "Song 1: \"God’s Plan\"\n",
      "Song 2: \"In My Feelings\"\n",
      "\n",
      "Reached user-specified song limit (2).\n",
      "Done. Found 2 songs.\n"
     ]
    }
   ],
   "source": [
    "# file = open(\"lyrics.txt\", \"w\")\n",
    "\n",
    "genius = lg.Genius('Kazu51bV8gbOwO6RQpZA-ZQ-4iOWbGdiQADlWk6SRO6DGtoezXzRL6Qapzdpu-VJ', skip_non_songs=True, \n",
    "excluded_terms=[\"(Remix)\", \"(Live)\"], remove_section_headers=True)\n",
    "\n",
    "pop = ['One Direction', 'Ariana Grande', 'Justin Bieber', 'Miley Cyrus', 'Justin Timberlake', 'Katy Perry', 'Black Eyed Peas', 'Demi Lovato', 'Meghan Trainor', 'Kesha', \n",
    "       'Lady Gaga', 'Shawn Mendes', 'Sam Smith', 'Camilla Cabello', 'Chainsmokers', 'Jason Derulo', 'Calvin Harris', 'Pink', '5 Seconds of Summer', 'The Weeknd', \n",
    "       'Harry Styles', 'Jennifer Lopez', 'Charlie Puth', 'Michael Jackson', 'Prince']\n",
    "rap = ['Fetty Wap', 'Migos', '21 Savage', '88GLAM', 'Roddy Rich', 'Lil Baby', 'Eminem', 'Snoop Dogg', 'Drake','Kanye West', 'Travis Scott', 'Dr. Dre','Lil Wayne' ,\n",
    "       '50 Cent' ,'Jay-Z', 'Kendrick Lamar' ,'J. Cole' ,'Nas' ,'Kid Cudi' ,'Cardi B', 'Nicki Minaj', 'A$AP Rocky' ,'Pop Smoke', 'Meek Mill', 'Young Thug']\n",
    "conutry = ['Tim McGraw', 'Blake Shelton', 'George Strait', 'Garth Brooks', 'Luke Bryan', 'Luke Combs', 'Kenny Chesney', 'Keith Urban', 'Johnny Cash', 'Carrie Underwood', \n",
    "           'Brad Paisley', 'Merie Haggard', 'Jason Aldean', 'Dierks Bentley', 'Alan Jackson', 'Chris Stapleton', 'Kenny Rogers', 'Toby Keith', 'Darius Rucker', 'George Jones', \n",
    "           'Willie Nelson', 'Miranda Lambert', 'Chris Young', 'Randy Travis', 'Thomas Rhett']\n",
    "\n",
    "\n",
    "def get_lyrics(df, artists, k):  # Write lyrics of k songs by each artist in arr\n",
    "    c = 0  # Counter\n",
    "    err = 0\n",
    "    for name in artists.keys():\n",
    "        while True:\n",
    "            try:\n",
    "                songs = (genius.search_artist(name, max_songs=k, sort='popularity')).songs\n",
    "                for song in songs:\n",
    "                    df = df.append({'Artist':song.artist , 'Song':song.title , 'Lyrics':song.lyrics , 'Genre':artists[name]}, ignore_index = True)\n",
    "                break\n",
    "            except:\n",
    "                err += 1\n",
    "                print('err',err)\n",
    "                pass\n",
    "            # except:  #  Broad catch which will give us the name of artist and song that threw the exception\n",
    "            # print(f\"some exception at {name}: {c}\")\n",
    "    \n",
    "    return df\n",
    "\n",
    "new_df = get_lyrics(df, artists, 2)"
   ]
  },
  {
   "cell_type": "code",
   "execution_count": 76,
   "metadata": {},
   "outputs": [],
   "source": []
  },
  {
   "cell_type": "code",
   "execution_count": 77,
   "metadata": {},
   "outputs": [
    {
     "data": {
      "text/plain": [
       "25"
      ]
     },
     "execution_count": 77,
     "metadata": {},
     "output_type": "execute_result"
    }
   ],
   "source": [
    "len(pop)"
   ]
  },
  {
   "cell_type": "code",
   "execution_count": null,
   "metadata": {},
   "outputs": [],
   "source": []
  }
 ],
 "metadata": {
  "kernelspec": {
   "display_name": "Python 3",
   "language": "python",
   "name": "python3"
  },
  "language_info": {
   "codemirror_mode": {
    "name": "ipython",
    "version": 3
   },
   "file_extension": ".py",
   "mimetype": "text/x-python",
   "name": "python",
   "nbconvert_exporter": "python",
   "pygments_lexer": "ipython3",
   "version": "3.7.6"
  }
 },
 "nbformat": 4,
 "nbformat_minor": 5
}
